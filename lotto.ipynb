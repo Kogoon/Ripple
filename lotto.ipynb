{
  "nbformat": 4,
  "nbformat_minor": 0,
  "metadata": {
    "colab": {
      "name": "lotto.ipynb",
      "private_outputs": true,
      "provenance": [],
      "collapsed_sections": [],
      "authorship_tag": "ABX9TyNLqkXTeTopcjvtAHjgcSVp"
    },
    "kernelspec": {
      "name": "python3",
      "display_name": "Python 3"
    },
    "language_info": {
      "name": "python"
    }
  },
  "cells": [
    {
      "cell_type": "code",
      "metadata": {
        "id": "MBAuHA77pOTN"
      },
      "source": [
        "import pandas as pd \n",
        "import requests \n",
        "from tqdm import tqdm #진행표시 \n",
        "import json"
      ],
      "execution_count": null,
      "outputs": []
    },
    {
      "cell_type": "code",
      "metadata": {
        "id": "H6KJCeYaqynW"
      },
      "source": [
        "def getLottery(minday, maxday):\n",
        "\n",
        "  drwNo = []    #로또회차\n",
        "  drwtNo1 = []  #첫번째\n",
        "  drwtNo2 = []  #두번째\n",
        "  drwtNo3 = []  #세번째\n",
        "  drwtNo4 = []  #네번째\n",
        "  drwtNo5 = []  #다섯번째\n",
        "  drwtNo6 = []  #여섯번째\n",
        "  drwNoDate = []#날짜\n",
        "\n",
        "  for i in tqdm(range(minday, maxday+1, 1)):\n",
        "    url = \"https://www.dhlottery.co.kr/common.do?method=getLottoNumber&drwNo=\"\n",
        "    req_url = url + str(i)\n",
        "    req_lotto = requests.get(req_url)\n",
        "\n",
        "    lotto_no = req_lotto.json()\n",
        "    drwNo.append(lotto_no['drwNo'])\n",
        "    drwtNo1.append(lotto_no['drwtNo1'])\n",
        "    drwtNo2.append(lotto_no['drwtNo2'])\n",
        "    drwtNo3.append(lotto_no['drwtNo3'])\n",
        "    drwtNo4.append(lotto_no['drwtNo4'])\n",
        "    drwtNo5.append(lotto_no['drwtNo5'])\n",
        "    drwtNo6.append(lotto_no['drwtNo6'])\n",
        "    drwNoDate.append(lotto_no['drwNoDate'])\n",
        "\n",
        "    lotto_dict = {\n",
        "        \"추첨일\":drwNoDate,\n",
        "        \"회차\":drwNo,\n",
        "        \"Num1\":drwtNo1,\n",
        "        \"Num2\":drwtNo2,\n",
        "        \"Num3\":drwtNo3,\n",
        "        \"Num4\":drwtNo4,\n",
        "        \"Num5\":drwtNo5,\n",
        "        \"Num6\":drwtNo6\n",
        "    }\n",
        "\n",
        "    df_lotto = pd.DataFrame(lotto_dict)\n",
        "\n",
        "  return df_lotto\n"
      ],
      "execution_count": null,
      "outputs": []
    },
    {
      "cell_type": "code",
      "metadata": {
        "id": "eUAQlyOl2vUs"
      },
      "source": [
        "lotto = getLottery(1, 967)"
      ],
      "execution_count": null,
      "outputs": []
    },
    {
      "cell_type": "code",
      "metadata": {
        "id": "wKjeWybf4Kq9"
      },
      "source": [
        "lotto.shape"
      ],
      "execution_count": null,
      "outputs": []
    },
    {
      "cell_type": "code",
      "metadata": {
        "id": "EuN7oss-4T-d"
      },
      "source": [
        "lotto.head()"
      ],
      "execution_count": null,
      "outputs": []
    },
    {
      "cell_type": "code",
      "metadata": {
        "id": "y1e7x5r74VpM"
      },
      "source": [
        "lotto.to_csv(\"lotto_win_info.csv\", index=False)"
      ],
      "execution_count": null,
      "outputs": []
    },
    {
      "cell_type": "code",
      "metadata": {
        "id": "GydDBKBZ9F2A"
      },
      "source": [
        ""
      ],
      "execution_count": null,
      "outputs": []
    }
  ]
}